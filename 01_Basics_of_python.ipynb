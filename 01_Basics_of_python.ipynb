{
 "cells": [
  {
   "cell_type": "markdown",
   "metadata": {},
   "source": [
    "# **Basics Of Python**\n",
    "## 1-  Print Program in Python"
   ]
  },
  {
   "cell_type": "code",
   "execution_count": null,
   "metadata": {},
   "outputs": [],
   "source": [
    "# this is a comment in python and it will not be executed by the interpreter \n",
    "# it just helps us to understand the code better\n",
    "\n",
    "# this is first python program to print hello world\n",
    "print(\"Hello World\")\n",
    "print(\"We are learning Python basics today\")"
   ]
  },
  {
   "cell_type": "markdown",
   "metadata": {},
   "source": [
    "## 2-  Operators used in Python"
   ]
  },
  {
   "cell_type": "code",
   "execution_count": null,
   "metadata": {},
   "outputs": [],
   "source": [
    "# (PEMDAS) Left to Right Order of Operations \n",
    "# Parentheses, Exponents, Multiplication, Division, Addition, Subtraction\n",
    "print(2+3) # Addition\n",
    "print(2-3) # Subtraction \n",
    "print(2*3) # Multiplication\n",
    "print(2/3) # Division\n",
    "print(99//7) # Floor Division (Rounds down to nearest whole number)\n",
    "print(2%3) # Modulo\n",
    "print(2**3) # Exponent\n",
    "print(2**3//4*5+6+7) # PEMDAS"
   ]
  },
  {
   "cell_type": "markdown",
   "metadata": {},
   "source": [
    "## 3- Strings in Python "
   ]
  },
  {
   "cell_type": "code",
   "execution_count": null,
   "metadata": {},
   "outputs": [],
   "source": [
    "# this single quote is a string \n",
    "print('Hello, this is a string with single quotes')\n",
    "\n",
    "# this double quote is a string and can be used interchangeably with single quotes\n",
    "print(\"Hello, this is a string with double quotes\")\n",
    "\n",
    "# some strings have apostrophes in them like below\n",
    "print(\"Hello, this is a string with double quotes and a 'single quote' inside\")\n",
    "print('Hello, this is a string with single quotes and a \"double quote\" inside')\n",
    "print(\"Hello, this is a string with double quotes and a 'single quote' inside and a \\\"double quote\\\" inside\")\n",
    "\n",
    "# this triple quote is used for multi-line strings or for docstrings\n",
    "print(''' Hello, this is a string with triple single quotes ''')\n",
    "print(\"\"\" Hello, this is a string with triple double quotes \"\"\")"
   ]
  },
  {
   "cell_type": "markdown",
   "metadata": {},
   "source": [
    "## 4- Comments in python"
   ]
  },
  {
   "cell_type": "code",
   "execution_count": null,
   "metadata": {},
   "outputs": [],
   "source": [
    "print(\"How are you?\") # Press Ctrl+/ to turn a line of code into comment  \n",
    "print(\"We are learning Python basic\") # Comments are used to add instructions/purpose of code"
   ]
  },
  {
   "cell_type": "markdown",
   "metadata": {},
   "source": [
    "## 5- Variables in python \n",
    "\n",
    "#### Rules for declare a variable\n",
    "\n",
    "- Variable name should start with a letter or underscore not a number\n",
    "- Variable name can only contain alpha-numeric characters and underscores (A-z, 0-9, and _ )\n",
    "- Variable names are case-sensitive (age, Age and AGE are three different variables)\n",
    "- Variable names cannot be keywords (if, for, while, etc.)\n",
    "- Variable names should be descriptive and meaningful\n",
    "- Variable names should not be too long"
   ]
  },
  {
   "cell_type": "code",
   "execution_count": null,
   "metadata": {},
   "outputs": [],
   "source": [
    "# Variables store values within them of different datatypes\n",
    "\n",
    "x = 5         # Numeric / Integer variable\n",
    "print(x)\n",
    "\n",
    "y = \"What a lovely night!\" # String variable\n",
    "print(y)\n",
    "\n",
    "# Type/class of a variable can be checked using type() function\n",
    "print(type(x))\n",
    "print(type(y))"
   ]
  },
  {
   "cell_type": "code",
   "execution_count": null,
   "metadata": {},
   "outputs": [],
   "source": [
    "quantity = 100\n",
    "fruit_basket = \"Mangoes\"\n",
    "print(fruit_basket, \"is a \", type(fruit_basket)) \n",
    "print(quantity, \"is the quantity of fruits which is a\", type(quantity))"
   ]
  },
  {
   "cell_type": "markdown",
   "metadata": {},
   "source": [
    "## 6- User Input function in python\n",
    "\n",
    "- input function is used to take input from the user\n",
    "- input function always takes input as a string\n",
    "- input function always returns a string"
   ]
  },
  {
   "cell_type": "code",
   "execution_count": null,
   "metadata": {},
   "outputs": [],
   "source": [
    "# Input fuction 1.0\n",
    "fruits = input(\"What is your favorite fruit?\")\n",
    "print(fruits, type(fruits))\n",
    "\n",
    "# Input function 2.0\n",
    "name = input(\"What's your name? \")\n",
    "greetings = \"Greetings!\"\n",
    "print(greetings, name)\n"
   ]
  },
  {
   "cell_type": "markdown",
   "metadata": {},
   "source": [
    "## 7- logical Operators in Python"
   ]
  },
  {
   "cell_type": "code",
   "execution_count": null,
   "metadata": {},
   "outputs": [],
   "source": [
    "# Logical operators are either TRUE or FALSE\n",
    "# ==, !=, >, <, >=, <= \n",
    "\n",
    "print(4==4)  # equal to \n",
    "print(4!=4) # not equal False !=\n",
    "print(4>3)  # greater than >\n",
    "print(4<3)  # less than <\n",
    "print(4>=3)  # greater than and equal >=\n",
    "print(4<=3)  # less than and equal <=\n",
    "\n",
    "# application of logical operators\n",
    "age_at_school = 5 # age at school is 5 years old \n",
    "# student_age =input(\"How old is student?   \")\n",
    "# student_age = int (student_age) # convert string to integer\n",
    "# OR\n",
    "student_age = int(input(\"How old is student? \")) # Input function with type conversion \n",
    "print(age_at_school==student_age) # Logical operation to compare age_at_school and student_age variables "
   ]
  },
  {
   "cell_type": "markdown",
   "metadata": {},
   "source": [
    "## 8- Data Type Conversion in python"
   ]
  },
  {
   "cell_type": "code",
   "execution_count": null,
   "metadata": {},
   "outputs": [],
   "source": [
    "x=5                     #integer\n",
    "y=10.2                  #flot\n",
    "C=1j                    #complex\n",
    "z=\"name\"                #string\n",
    "\n",
    "\n",
    "# implicit type conversion \n",
    "Sum= x+y\n",
    "Sub= x-y\n",
    "Multi= x*y\n",
    "Division= x/y\n",
    "# print all the values with types \n",
    "\n",
    "print(Sum , \"type of result is:   \", type(Sum))\n",
    "print(Sub , \"type of result is:   \", type(Sub))\n",
    "print(Multi , \"type of result is:   \", type(Multi))\n",
    "print(Division , \"type of result is:   \", type(Division))\n",
    "\n",
    "# Explicit type conversion\n",
    "age = input(\"What is your age? \")\n",
    "print (age, \"type of age is:   \", type(age)) # age is string\n",
    "print(age, \" Type of your age is: \", type(int(age))) # age is integer after type conversion"
   ]
  },
  {
   "cell_type": "markdown",
   "metadata": {},
   "source": [
    "## 9- conditional loops (If, else and elif)"
   ]
  },
  {
   "cell_type": "code",
   "execution_count": null,
   "metadata": {},
   "outputs": [],
   "source": [
    "name= input(\"what is student name ?   \")\n",
    "age= int(input( \"what is student age :   \"))\n",
    "print(name, \"is\", age, \"years old\")\n",
    "\n",
    "required_age_at_school=5 \n",
    "# if loop \n",
    "if required_age_at_school==age:\n",
    "    print(name, \" can join the school\")\n",
    "elif age > required_age_at_school:\n",
    "     print(name ,\"should join higher classes\")\n",
    "elif age <= 2:\n",
    "    print(\"you should take care of\", name , \"he/she is still baby.\")\n",
    "else:\n",
    "    print(\"sorry invalid age \")"
   ]
  },
  {
   "cell_type": "markdown",
   "metadata": {},
   "source": [
    "## 10- logical Loops (while loop , for loop,and if loop )"
   ]
  },
  {
   "cell_type": "code",
   "execution_count": null,
   "metadata": {},
   "outputs": [],
   "source": [
    "#while loop is used to execute a set of statements as long as a condition is true\n",
    "# while loop \n",
    "print (\"while loop\")\n",
    "x=0\n",
    "while (x<=5): # condition\n",
    "    print(x)  # body of loop\n",
    "    x=x+1     # increment  \n",
    "\n",
    "# for loop is used for iterating over a sequence (that is either a list, a tuple, a dictionary, a set, or a string)\n",
    "#for loop \n",
    "print (\"for loop 1\")\n",
    "for x in range(1,5): # range(start, stop)\n",
    "    print (x)\n",
    "\n",
    "#for loop \n",
    "print (\"for loop 2\")\n",
    "for x in range(6,100,5): # range(start, stop, step)\n",
    "    print (x)\n",
    "\n",
    "\n",
    "# for loop\n",
    "print(\"for loop 3 (week days)\")\n",
    "days= (\"Monday\", \"Tuesday\", \"Wednesday\",\"Thursday\", \"Friday\",\"Satarday\", \"Sunday\")\n",
    "for d in days:\n",
    "    # print (d)\n",
    "    if (d== \"Friday\"): break # loop will stop at condition\n",
    "    print (d)\n",
    "    # if (d== \"Tuesday\"): continue #loop will skip condition and continue \n",
    "    # print (d)"
   ]
  },
  {
   "cell_type": "markdown",
   "metadata": {},
   "source": [
    "## 11- User Define Functions In Python"
   ]
  },
  {
   "cell_type": "code",
   "execution_count": null,
   "metadata": {},
   "outputs": [],
   "source": [
    "# function is a block of code which only runs when it is called\n",
    "\n",
    "# defining a function by method 1\n",
    "def print_my_Text1():\n",
    "    print(\"we are learning python it's very intresting programming language\")\n",
    "    print(\"we are learning python it's very intresting programming language\")\n",
    "    print(\"we are learning python it's very intresting programming language\")\n",
    "    print(\"we are learning python it's very intresting programming language\")\n",
    "    print(\"we are learning python it's very intresting programming language\")\n",
    "print_my_Text1()\n",
    "\n",
    "# defining a function by method 2 \n",
    "def print_my_Text2():\n",
    "    text=(\"python programming language is easy to understand\") \n",
    "    print(text)\n",
    "    print(text)\n",
    "    print(text)\n",
    "    print(text)\n",
    "    print(text)\n",
    "print_my_Text2()\n",
    "\n",
    "# defining a function method 3\n",
    "def print_my_Text3 (text):\n",
    "    print(text)\n",
    "    print(text)\n",
    "    print(text)\n",
    "    print(text)\n",
    "    print(text)\n",
    "    print(text)\n",
    "print_my_Text3(\"python is very popular programming language\")\n",
    "\n",
    "# defining a function with if else statment\n",
    "    \n",
    "name= input(\"what is student name ?   \")\n",
    "age= int(input( \"what is student age :   \"))\n",
    "print(name, \"is\", age, \"years old\")\n",
    "required_age_at_school=5 \n",
    "# defining a function with if else statment to make school admission decision\n",
    "\n",
    "def school_calculator(age_of_student , name_of_student ):\n",
    "    if required_age_at_school==age:\n",
    "        print(name, \" can join the school\")\n",
    "    elif age > required_age_at_school:\n",
    "        print(name ,\"should join higher classes\")\n",
    "    elif age <= 2:\n",
    "        print(\"you should take care of\", name , \"he/she is still baby.\")\n",
    "    else:\n",
    "        print(\"sorry invalid age \")\n",
    "\n",
    "school_calculator (age, name)\n",
    "\n",
    "#defining a function for future \n",
    "current_age= int(input(\"please insert your current age:  \"))\n",
    "# defining a function to calculate future age (after 20 years)\n",
    "def future_age(age):\n",
    "    new_age = age +20\n",
    "    return new_age\n",
    "\n",
    "future_perficted_age= future_age (current_age) \n",
    "print(\"your current age is: \", current_age)\n",
    "print(\"your age after 20 years will be:\", future_perficted_age)"
   ]
  },
  {
   "cell_type": "markdown",
   "metadata": {},
   "source": [
    "## 12- Indexing and Slicing in Python"
   ]
  },
  {
   "cell_type": "code",
   "execution_count": null,
   "metadata": {},
   "outputs": [],
   "source": [
    "my_string = \"Life Is Beautiful\"\n",
    "print(f\"Indexing using a single number: \",my_string[8])\n",
    "print(f\"Indexing using a range of positive numbers: \",my_string[0:17])\n",
    "print(f\"Indexing using a range of negative and positive numbers: \",my_string[-17:-1])"
   ]
  },
  {
   "cell_type": "markdown",
   "metadata": {},
   "source": [
    "## 13- String Methods"
   ]
  },
  {
   "cell_type": "code",
   "execution_count": null,
   "metadata": {},
   "outputs": [],
   "source": [
    "introduction = \"I am Mahwish Memon, here to learn Python\" # spaces are also counted\n",
    "\n",
    "# Checking length of a string \n",
    "print(\"length of your introduction is :\" , len(introduction))\n",
    "\n",
    "# Capitalizing first words of a string\n",
    "print(introduction.capitalize())\n",
    "\n",
    "# Capitalizing all words of a string\n",
    "print(introduction.upper())\n",
    "\n",
    "# Lowering all words of a string\n",
    "print(introduction.lower())\n",
    "\n",
    "# Counting the number of times a character appeared\n",
    "print(\"The i in your introduction comes   \", introduction.count(\"i\"), \"times\")\n",
    "\n",
    "# Find the position of a character like here m \n",
    "print(\"The position of character m in your introduction is :\",introduction.find(\"m\"))\n",
    "print(\"The position of character M in your introduction is :\",introduction.find(\"m\", 1, 39)) # find m between 1 and 39\n",
    "\n",
    "# Replacing characters of a string\n",
    "print(introduction.replace(\"M\", \"S\"))\n",
    "print(introduction.replace(\"Mahwish\", \"Sadia\"))\n",
    "\n",
    "# Splitting the entire string based on comma , \n",
    "print(introduction.split(\",\"))\n",
    "print (introduction.split(\" \"))\n",
    "print (introduction.split(\"a\"))\n",
    "print (introduction.split(\"e\"))"
   ]
  }
 ],
 "metadata": {
  "kernelspec": {
   "display_name": "Python 3.9.6 64-bit",
   "language": "python",
   "name": "python3"
  },
  "language_info": {
   "codemirror_mode": {
    "name": "ipython",
    "version": 3
   },
   "file_extension": ".py",
   "mimetype": "text/x-python",
   "name": "python",
   "nbconvert_exporter": "python",
   "pygments_lexer": "ipython3",
   "version": "3.9.6"
  },
  "orig_nbformat": 4,
  "vscode": {
   "interpreter": {
    "hash": "f6246b25e200e4c5124e3e61789ac81350562f0761bbcf92ad9e48654207659c"
   }
  }
 },
 "nbformat": 4,
 "nbformat_minor": 2
}
