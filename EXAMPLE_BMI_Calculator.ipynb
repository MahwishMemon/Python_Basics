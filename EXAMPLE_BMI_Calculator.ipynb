{
 "cells": [
  {
   "cell_type": "markdown",
   "metadata": {},
   "source": [
    "## Examples\n",
    "### BMI(BODY MASS INDEX CALCULATOR) Calculator\n",
    "> 1 User inputs are \n",
    "* Name\n",
    "* Weight\n",
    "* Height\n",
    "* Age\n",
    "* \n",
    "> 2 output will be\n",
    "* your body mass index according to your data input"
   ]
  },
  {
   "cell_type": "code",
   "execution_count": 4,
   "metadata": {},
   "outputs": [
    {
     "name": "stdout",
     "output_type": "stream",
     "text": [
      "Hi, meena! your age is 23 you BMI is : 34.76562499999999\n",
      "You are obese\n"
     ]
    }
   ],
   "source": [
    "# BMI calculator using Python\n",
    "\n",
    "name = input(\"What is Your name: \")\n",
    "age = int(input(\"Plz insert Your age: \"))\n",
    "weight = int(input(\"Plz insert Your weight (kg): \"))\n",
    "height = float(input(\"Plz insert Your height (meters): \"))\n",
    "\n",
    "BMI= weight/(height)**2\n",
    "print(f\"Hi, {name}! your age is {age} you BMI is : {BMI}\")\n",
    "\n",
    "if BMI <= 18.5:\n",
    "    print(\"You are underweight\")\n",
    "elif BMI <= 25:\n",
    "    print(\"You are healthy\")\n",
    "elif BMI <= 30:\n",
    "    print(\"You are overweight\")\n",
    "elif BMI <= 35:\n",
    "    print(\"You are obese\")\n",
    "elif BMI > 40:\n",
    "    print(\"You are clinically obese\")\n",
    "else:\n",
    "    print(\"You are clinically obese and you need to see a doctor\")\n",
    "    "
   ]
  }
 ],
 "metadata": {
  "kernelspec": {
   "display_name": "Python 3.9.6 64-bit",
   "language": "python",
   "name": "python3"
  },
  "language_info": {
   "codemirror_mode": {
    "name": "ipython",
    "version": 3
   },
   "file_extension": ".py",
   "mimetype": "text/x-python",
   "name": "python",
   "nbconvert_exporter": "python",
   "pygments_lexer": "ipython3",
   "version": "3.9.6"
  },
  "orig_nbformat": 4,
  "vscode": {
   "interpreter": {
    "hash": "f6246b25e200e4c5124e3e61789ac81350562f0761bbcf92ad9e48654207659c"
   }
  }
 },
 "nbformat": 4,
 "nbformat_minor": 2
}
