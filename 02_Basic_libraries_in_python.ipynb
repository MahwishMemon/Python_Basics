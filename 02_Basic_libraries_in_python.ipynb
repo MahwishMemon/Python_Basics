{
 "cells": [
  {
   "cell_type": "markdown",
   "metadata": {},
   "source": [
    "# **Basic Libraries in python**\n",
    "### 1- math \n",
    "- math is a built-in module in python that contains a set of functions that allows you to perform mathematical tasks on numbers."
   ]
  },
  {
   "cell_type": "code",
   "execution_count": null,
   "metadata": {},
   "outputs": [],
   "source": [
    "# import math module \n",
    "import math\n",
    "\n",
    "# these are some of the functions of math module\n",
    "print(\"the value of pi is :  \", math.pi)\n",
    "print(\"square root of 25 is: \", math.sqrt(25))\n",
    "print (\"sin value of 90 is: \", math.sin(90))\n",
    "print (\"cos value of 90 is: \", math.cos(90))\n",
    "print (\"tan value of 90 is: \", math.tan(90))\n",
    "print (\"log value of 10 is: \", math.log(10))\n",
    "print (\"log value of 10 is: \", math.log(10,2)) # log with base 2\n",
    "print (\"log value of 10 is: \", math.log(10,10)) # log with base 10\n",
    "print (\"power value of 2 is: \", math.pow(2,2)) # power of 2^2\n",
    "print (\"factorial value of 2 is: \", math.factorial(2)) # factorial of 2\n",
    "print(\"exponential value of 2 is: \", math.exp(2)) # exponential of 2"
   ]
  },
  {
   "cell_type": "markdown",
   "metadata": {},
   "source": [
    "### 2- statistics\n",
    "- It is a built-in module in python.\n",
    "- statistics module is used to calculate mathematical statistics of numeric data.\n",
    "- It contains functions for calculating mean, median, mode, standard deviation, and variance.\n",
    "- It also contains functions for calculating correlation and regression."
   ]
  },
  {
   "cell_type": "code",
   "execution_count": null,
   "metadata": {},
   "outputs": [],
   "source": [
    "import statistics\n",
    "#some of the functions of statistics module\n",
    "print (\"mean of 1,2,3,4,5 is: \", statistics.mean([1,2,3,4,5]))\n",
    "print (\"median of 1,2,3,4,5,19,10,2,34,35,4,6 is: \", statistics.median([1,2,3,4,5,19,10,2,34,35,4,6]))\n",
    "print (\"mode of 1,2,3,4,5,19,10,2,34,35,4,6 is: \", statistics.mode([1,2,3,4,5,19,10,2,34,35,4,6]))\n",
    "print (\"variance of 1,2,3,4,5,19,10,2,34,35,4,6 is: \", statistics.variance([1,2,3,4,5,19,10,2,34,35,4,6]))\n",
    "#variance is the average of the squared differences from the Mean.\n",
    "print (\"standard deviation of 1,2,3,4,5,19,10,2,34,35,4,6 is: \", statistics.stdev([1,2,3,4,5,19,10,2,34,35,4,6])) #stdev \n",
    "#standard deviation is a measure of how spread out numbers are."
   ]
  },
  {
   "cell_type": "markdown",
   "metadata": {},
   "source": [
    "### 3- numpy \n",
    "- It is a third-party module in python.\n",
    "- numpy module is used to work with arrays.\n",
    "- It also has functions for working in domain of linear algebra, fourier transform, and matrices.\n",
    "\n",
    "####  ARRAY in python  (1D, 2D, 3D)\n",
    "- Array is group of similar data-type stored in consecutive memory locations\n",
    "- To make an array we use a library called Numpy\n",
    "- Numpy is abbreviated form of Numerical Python, is a Python library used to deal with harder and complex mathematical problems\n",
    "- numpy library is usefull for  linear algebra, Fourier transform, and random number capabilities"
   ]
  },
  {
   "cell_type": "code",
   "execution_count": null,
   "metadata": {},
   "outputs": [],
   "source": [
    "import numpy as np\n",
    "\n",
    "# Creating 1-D array\n",
    "arr1 = np.array([5,5,5,2,2,4]) # 1 row and 6 columns \n",
    "print(\"The 1-D array\",arr1)\n",
    "# creating 2-D array\n",
    "arr2= np.array([[1,2,3,4,5],\n",
    "                [6,7,8,9,10],\n",
    "                [6,7,8,9,10]])  # 3 rows and 5 columns\n",
    "print(\"The 2-D array\",arr2)\n",
    "\n",
    "# creating 3-D array\n",
    "arr3= np.array([[[1,2,3,4,5],[6,7,8,9,10]],\n",
    "                [[11,12,13,14,15],[16,17,18,19,20]],\n",
    "                [[21,22,23,24,25],[26,27,28,29,30]]]) # 3 rows and 2 columns and 5 elements in each column\n",
    "print(\"The 3-D array\",arr3)\n",
    "\n",
    "# Checking type of the array\n",
    "print(\"type of 1_D array\",type(arr1),\"type of 2_D array\",type(arr2),\n",
    "      \"type of 3_D array\",type(arr3))\n",
    "\n",
    "\n",
    "# Creating 1-D array of ones and zeros \n",
    "arr1_ones = np.ones(5) # 1 row and 5 columns\n",
    "print(\"1-D array with ones\",arr1_ones)\n",
    "arr1_zeros = np.zeros(5) # 1 row and 5 columns\n",
    "print(\"1-D array with zeros\",arr1_zeros)\n",
    "\n",
    "# Creating 1-D array of ones and zeros with specific datatypes\n",
    "arr1_onesd = np.ones(5,dtype=\"float64\") # 1 row and 5 columns\n",
    "print(\"1-D array with ones\",arr1_onesd, arr1_onesd.dtype)\n",
    "arr1_zerosd = np.zeros(5,dtype=\"float32\") # 1 row and 5 columns\n",
    "print(\"1-D array with zeros\",arr1_zerosd,arr1_zerosd.dtype)\n",
    "\n",
    "# Creating  1_D array of desired range(start from zero and stop) and desired interval(start and stop)\n",
    "arr1_arange1 = np.arange(5)       # 1 row and 5 columns (0,1,2,3,4)\n",
    "print(\"1_D array, desired range \",arr1_arange1)\n",
    "arr1_arrange2 = np.arange(5,10)   # 1 row 5 columns (5,6,7,8,9,10)\n",
    "print(\"1_D array, desired range\",arr1_arrange2)\n",
    "\n",
    "# Creating 1_D array of desried interval and steps (start, stop, step)\n",
    "arr1_arrange3 = np.arange(5,20,2) # 1 row 8 columns each element with step 2 (5,7,9,11,13,15,17,19)\n",
    "print(\"1_D array of desried interval and steps \",arr1_arrange3)\n",
    "\n",
    "# Creating 1_D array of desired interval with specific number of values\n",
    "arr1_linespace = np.linspace(1,10,num=9) # 1 row, 9 columns (interger) values in each element (start 2 and stop at 10 with assin 6 values)\n",
    "print(\"Desired interval with specific number of values\",arr1_linespace)\n",
    "\n",
    "# Checking Average of 1_D array of int/flot\n",
    "arr1_average= np.array([2,4,6,8,10])\n",
    "print(\"mean of 1_D array is:\",arr1_average.mean())\n",
    "\n",
    "# Creating a 2-D, 3-D and 4-D array using Reshape\n",
    "arr2D_arrange = np.arange(9).reshape(3,3)# 3*3 matrix\n",
    "print(\"2-D array of 3*3 using Arrange: \", arr2D_arrange)\n",
    "arr3D_arrange = np.arange(12).reshape(2,3,2) # 2*3*2 matrix\n",
    "print(\"3-D array of 2*3*2 using Arrange: \", arr3D_arrange)\n",
    "arr4D_arrange= np.arange(24).reshape(2,2,3,2) # 2*2*3*2 matrix\n",
    "print(\"4-D array of 2*2*3*2 using Arrange: \", arr4D_arrange) # 2*2*3*2 matrix\n",
    "\n",
    "# Creating 1-D array of empty/random values\n",
    "arr1D_random = np.random.rand(3) #\n",
    "print(\"1-D empty/random values array: \", arr2D_arrange)\n",
    "# Creating 2-D array of empty/random values\n",
    "arr2D_random= np.empty([3,2]) # 3 row and 2 columns\n",
    "print(\"2-D empty/random values array\",arr2D_random)\n",
    "\n",
    "# Array Sorting \n",
    "Z = np.array([2,66,7.8,12,90,164,567,3,9])\n",
    "Z.sort()\n",
    "print(\"sort array\",Z)\n",
    "\n",
    "#concatination, Random Integer Array with 10 numbers only\n",
    "X = np.random.randint(10,size=10)\n",
    "Y = np.random.randint(220,size=10)\n",
    "print(\"X array\",X,\"Y array\",Y)\n",
    "print(\"adding two random arrasys X+Y \",np.concatenate((X,Y)))\n",
    "\n",
    "# Checking dimension(axis), size(number of elements) and shape(structure) of an array\n",
    "array1= np.arange(9).reshape(3,3)\n",
    "array2 = np.arange(12).reshape(2,3,2)\n",
    "print(\"array1 dimension: \", array1.ndim, \"   array1 size: \", array1.size, \"   array1 shape: \", array1.shape)\n",
    "print(\"array2 dimension: \", array2.ndim, \"   array2 size: \", array2.size, \"   array2 shape: \", array2.shape)\n",
    "\n",
    "# Reshaping \n",
    "arr2_new = np.reshape(array2, newshape=(3,4))\n",
    "print(\"array2 reshaped 3*4: \", arr2_new)\n",
    "\n",
    "# Dimension covnersion 1-D to 2-D (row to column, column to row)\n",
    "X = np.array([1,2,3,4,5,6,7,8]) # 1-D array\n",
    "b = X[np.newaxis, :] # row vector\n",
    "print(\"row vector: \", b,\"shape of row vector\", b.shape)\n",
    "c = X[:, np.newaxis]  # column vector\n",
    "print(\"column vector: \", c,\"shape of column vector\", c.shape)\n"
   ]
  },
  {
   "cell_type": "markdown",
   "metadata": {},
   "source": [
    "### 4- pandas\n",
    "- It is a third-party module in python.\n",
    "- pandas module is used for data manipulation, analysis, and cleaning.\n",
    "- It is built on top of the numpy module and its key data structure is called the DataFrame.\n",
    "- DataFrames allow you to store and manipulate tabular data in rows of observations and columns of variables."
   ]
  },
  {
   "cell_type": "code",
   "execution_count": null,
   "metadata": {},
   "outputs": [],
   "source": [
    "import pandas as pd\n",
    "\n",
    "# Pandas series (Arrays)\n",
    "S= pd.Series([1,3,5,7,9]) # Series is a one dimensional array\n",
    "print(\" Series is a one dimensional array\",S)\n",
    "\n",
    "# Dates row in Pandas \n",
    "dates = pd.date_range(\"20220101\", periods=30) # 1 row and 30 columns\n",
    "print(\"dates row in Pandas\",dates)\n",
    "\n",
    "# make Dataframe \n",
    "import numpy as np\n",
    "df = pd.DataFrame(np.random.randn(20,4), index=pd.date_range(\"20220201\", periods=20), columns=list(\"ABCD\"))\n",
    "print(\"make Dataframe in Pandas\",df)"
   ]
  },
  {
   "cell_type": "code",
   "execution_count": null,
   "metadata": {},
   "outputs": [],
   "source": [
    "# Show descriptive Statistics of a Dataframe\n",
    "print(\"describe dataframe \", df.describe())\n",
    "\n",
    "# Transpose of a Dataframe \n",
    "print(df.T)"
   ]
  },
  {
   "cell_type": "code",
   "execution_count": null,
   "metadata": {},
   "outputs": [],
   "source": [
    "# Creating Dataframe through a Dictionary in a different way\n",
    "my_dictionary = {\n",
    "    \"A\": 55.0,\n",
    "    \"B\": pd.Timestamp(\"20220101\"),\n",
    "    \"C\": pd.Series(2, index=list(range(4)),dtype=\"float64\"),\n",
    "    \"D\": np.array([3]*4, dtype=\"int32\"),\n",
    "    \"E\": pd.Categorical([\"shirt\",\"cap\",\"touser\",\"shoes\"]),\n",
    "    \"F\": \"clothes\"\n",
    "}\n",
    "df2 = pd.DataFrame(my_dictionary)\n",
    "print(df2)\n",
    "\n",
    "# Check the Datatypes, index, head, tail of a Dataframe df2\n",
    "print(\"datatype of df2 is: \",df2.dtypes)# type of data\n",
    "print(\"index of df2 is: \",df2.index) # index is the name of the rows\n",
    "print(\"head of df2 is: \",df2.head(1))# Show only initial rows\n",
    "print(\"tail of df2 is: \",df2.tail(1))# Show only last rows\n",
    "# Sorting of a Dataframe df2\n",
    "df2.sort_index(axis=1, ascending=True)\n",
    "print(df2)"
   ]
  },
  {
   "cell_type": "code",
   "execution_count": null,
   "metadata": {},
   "outputs": [],
   "source": [
    "df = pd.DataFrame(np.random.randn(30,4), index=pd.date_range(\"20220101\", periods=30), columns=list(\"ABCD\"))\n",
    "# Any number of rows selection \n",
    "print(df[0:4])  # 0 to 3 rows\n",
    "#oR   df.iloc[0:4] # iloc is used to get values from index\n",
    "\n",
    "# Specific row selection\n",
    "print(df.loc[\"2022-01-01\"]) # loc is used to get values using names of rows and columns\n",
    "\n",
    "# All rows and single column selection\n",
    "print(df.loc[:][\"A\"]) # All rows and column A\n",
    "#OR  df.iloc[:][\"A\"]\n",
    "\n",
    "# Specific row by using the name of the index\n",
    "print(df.loc[\"20220101\"]) #OR df.loc[dates[0]]\n",
    "\n",
    "# All rows with multiple columns selection\n",
    "print(df.loc[:,[\"A\", \"B\"]]) #OR df.loc[:][[\"A\",\"B\"]] OR df.iloc[:,[0, 1]]\n",
    "\n",
    "# Specific range of rows and specific columns selection\n",
    "print(df.loc[\"20220101\":\"20220104\",[\"A\", \"B\"]]) #OR df.iloc[0:4,[0,1]]\n",
    "\n",
    "# Get a single value only \n",
    "print(df.at[\"2022-01-01T00:00:00.000Z\",\"A\"]) #OR df.at[dates[0],\"A\"]\n",
    "\n",
    "# Data filteration using Booleans \n",
    "print(df[df[\"A\"]>1][\"A\"]) # print all the values of column A which are greater than 1, and print only column A\n",
    "print(df[df[[\"B\",\"C\"]]>0][[\"B\",\"C\"]])# print all the rows of columns B and C which are greater than 0, and print only columns B and C\n",
    "\n",
    "# Show all values greater than 0 in the Dataframe\n",
    "print(df[df>0])\n",
    "# make a new dataframe with average of all the columns\n",
    "df[\"Average\"] = df[[\"A\", \"B\", \"C\", \"D\"]].mean(axis=1)\n",
    "print(\"dataframe with average of all the columns\",df)"
   ]
  },
  {
   "cell_type": "code",
   "execution_count": 5,
   "metadata": {},
   "outputs": [
    {
     "data": {
      "text/plain": [
       "a   -0.526326\n",
       "b   -1.135234\n",
       "c    2.068259\n",
       "d   -0.370557\n",
       "e   -0.308629\n",
       "f   -0.143864\n",
       "dtype: float64"
      ]
     },
     "execution_count": 5,
     "metadata": {},
     "output_type": "execute_result"
    }
   ],
   "source": [
    "### EXAMPLE 02\n",
    "\n",
    "# import libraries \n",
    "import pandas as pd\n",
    "import numpy as np \n",
    "\n",
    "# pandas Dataframe with NaN values with auto index\n",
    "s= pd.Series([1,3,5,np.nan,6,8]) # Series is a one dimensional array\n",
    "s\n"
   ]
  },
  {
   "cell_type": "code",
   "execution_count": 6,
   "metadata": {},
   "outputs": [
    {
     "data": {
      "text/plain": [
       "a    0.901933\n",
       "b   -3.472894\n",
       "c   -0.096034\n",
       "d   -0.085669\n",
       "e    0.659427\n",
       "f    0.804353\n",
       "dtype: float64"
      ]
     },
     "execution_count": 6,
     "metadata": {},
     "output_type": "execute_result"
    }
   ],
   "source": [
    "# pandas Dataframe with NaN values with manual index\n",
    "s1 = pd.Series(np.random.randn(6), index=list('abcdef'))\n",
    "s1"
   ]
  },
  {
   "cell_type": "markdown",
   "metadata": {},
   "source": [
    "# 5- datetime\n",
    " datetime library is used to work with dates as date objects\n",
    "-  datetime.datetime.now() returns the current date and time\n",
    "-  datetime.datetime.now().year returns the current year\n",
    "- datetime.datetime.now().month returns the current month\n",
    "- datetime.datetime.now().day returns the current day"
   ]
  },
  {
   "cell_type": "code",
   "execution_count": 5,
   "metadata": {},
   "outputs": [
    {
     "name": "stdout",
     "output_type": "stream",
     "text": [
      "2022-10-23 05:42:11.808487\n"
     ]
    }
   ],
   "source": [
    "import datetime\n",
    "data = datetime.datetime.now()\n",
    "print(data)\n"
   ]
  },
  {
   "cell_type": "markdown",
   "metadata": {},
   "source": [
    "### 5- matplotlib\n",
    "- It is a third-party module in python.\n",
    "- matplotlib module is used to create 2D charts and plots.\n",
    "- It is built on top of the numpy module and its key data structure is called the DataFrame.\n",
    "- DataFrames allow you to store and manipulate tabular data in rows of observations and columns of variables.\n",
    "### 6- seaborn\n",
    "- It is a third-party module in python.\n",
    "- seaborn module is used for data visualization.\n",
    "- It is built on top of the matplotlib module and its key data structure is called the DataFrame.\n",
    "- DataFrames allow you to store and manipulate tabular data in rows of observations and columns of variables."
   ]
  }
 ],
 "metadata": {
  "kernelspec": {
   "display_name": "Python 3.9.6 64-bit",
   "language": "python",
   "name": "python3"
  },
  "language_info": {
   "codemirror_mode": {
    "name": "ipython",
    "version": 3
   },
   "file_extension": ".py",
   "mimetype": "text/x-python",
   "name": "python",
   "nbconvert_exporter": "python",
   "pygments_lexer": "ipython3",
   "version": "3.9.6"
  },
  "orig_nbformat": 4,
  "vscode": {
   "interpreter": {
    "hash": "f6246b25e200e4c5124e3e61789ac81350562f0761bbcf92ad9e48654207659c"
   }
  }
 },
 "nbformat": 4,
 "nbformat_minor": 2
}
